{
 "cells": [
  {
   "cell_type": "markdown",
   "metadata": {},
   "source": [
    "# Deep Learning Classification"
   ]
  },
  {
   "cell_type": "code",
   "execution_count": 33,
   "metadata": {},
   "outputs": [],
   "source": [
    "import torch\n",
    "import torch.nn as nn\n",
    "import torch.nn.functional as F\n",
    "from torch.utils.data import TensorDataset, DataLoader\n",
    "\n",
    "from tqdm import tqdm\n",
    "import pandas as pd\n",
    "from nltk.tokenize import word_tokenize\n",
    "from sklearn.model_selection import train_test_split"
   ]
  },
  {
   "cell_type": "code",
   "execution_count": 63,
   "metadata": {},
   "outputs": [],
   "source": [
    "df = pd.read_csv(\"data/processed_tweets.csv\").astype({\"post_text\":str})\n",
    "X = df.post_text\n",
    "y = df.label\n",
    "data = [(word_tokenize(post_text)) for post_text in X]\n",
    "X_train, X_test, y_train, y_test = train_test_split(data, y, stratify = y, random_state = 611)"
   ]
  },
  {
   "cell_type": "code",
   "execution_count": 3,
   "metadata": {},
   "outputs": [],
   "source": [
    "index2word = [\"<PAD>\", \"<SOS>\", \"<EOS>\"]\n",
    "\n",
    "for ds in [X_train, X_test]:\n",
    "    for tweet in ds:\n",
    "        for token in tweet:\n",
    "            if token not in index2word:\n",
    "                index2word.append(token)\n",
    "word2index = {token: idx for idx, token in enumerate(index2word)}"
   ]
  },
  {
   "cell_type": "code",
   "execution_count": 13,
   "metadata": {},
   "outputs": [],
   "source": [
    "seq_length = 32\n",
    "def encode_and_pad(tweet, length):\n",
    "    sos = [word2index[\"<SOS>\"]]\n",
    "    eos = [word2index[\"<EOS>\"]]\n",
    "    pad = [word2index[\"<PAD>\"]]\n",
    "\n",
    "    if len(tweet) < length - 2: # -2 for SOS and EOS\n",
    "        n_pads = length - 2 - len(tweet)\n",
    "        encoded = [word2index[w] for w in tweet]\n",
    "        return sos + encoded + eos + pad * n_pads \n",
    "    else: # tweet is longer than possible; truncating\n",
    "        encoded = [word2index[w] for w in tweet]\n",
    "        truncated = encoded[:length - 2]\n",
    "        return sos + truncated + eos\n",
    "\n",
    "train_encoded = [encode_and_pad(tweet, seq_length) for tweet in X_train]\n",
    "test_encoded = [encode_and_pad(tweet, seq_length) for tweet in X_test]"
   ]
  },
  {
   "cell_type": "code",
   "execution_count": 14,
   "metadata": {},
   "outputs": [],
   "source": [
    "batch_size = 32\n",
    "\n",
    "train_ds = TensorDataset(torch.as_tensor(train_encoded), torch.as_tensor(list(y_train)))\n",
    "test_ds = TensorDataset(torch.as_tensor(test_encoded), torch.as_tensor(list(y_test)))\n",
    "\n",
    "train_dl = DataLoader(train_ds, shuffle=True, batch_size=batch_size, drop_last=True)\n",
    "test_dl = DataLoader(test_ds, shuffle=True, batch_size=batch_size, drop_last=True)"
   ]
  },
  {
   "cell_type": "code",
   "execution_count": 54,
   "metadata": {},
   "outputs": [],
   "source": [
    "class BiLSTM_SentimentAnalysis(torch.nn.Module) :\n",
    "    def __init__(self, vocab_size, embedding_dim=128, hidden_dim=64, dropout=0.1) :\n",
    "        super().__init__()\n",
    "        self.embedding = nn.Embedding(vocab_size, embedding_dim, padding_idx=0)\n",
    "        self.lstm = nn.LSTM(embedding_dim, hidden_dim, num_layers=2, batch_first=True)\n",
    "        self.fc = nn.Sequential(\n",
    "            nn.Linear(hidden_dim, hidden_dim),\n",
    "            nn.Dropout(dropout),\n",
    "            nn.ReLU()\n",
    "        )\n",
    "        self.dense = nn.Sequential(\n",
    "            nn.Linear(hidden_dim, 1),\n",
    "            nn.Sigmoid()\n",
    "        )\n",
    "\n",
    "    def forward(self, x, hidden):\n",
    "        \"\"\"\n",
    "        The forward method takes in the input and the previous hidden state \n",
    "        \"\"\"\n",
    "        embs = self.embedding(x)\n",
    "        out, hidden = self.lstm(embs, hidden)\n",
    "        out = self.fc(out)\n",
    "        out = self.dense(out)\n",
    "        out = out.squeeze()\n",
    "        out = out[:, -1]\n",
    "        return out, hidden\n",
    "    \n",
    "    def init_hidden(self):\n",
    "        return (torch.zeros(2, batch_size, 64), torch.zeros(2, batch_size, 64))"
   ]
  },
  {
   "cell_type": "code",
   "execution_count": 55,
   "metadata": {},
   "outputs": [],
   "source": [
    "device = torch.device('cuda' if torch.cuda.is_available() else 'cpu')\n",
    "model = BiLSTM_SentimentAnalysis(len(word2index)).to(device)\n",
    "criterion = nn.BCELoss()\n",
    "optimizer = torch.optim.Adam(model.parameters(), lr = 1e-4)"
   ]
  },
  {
   "cell_type": "code",
   "execution_count": null,
   "metadata": {},
   "outputs": [],
   "source": [
    "epochs = 50\n",
    "losses = []\n",
    "model.train()\n",
    "\n",
    "for e in tqdm(range(epochs)):\n",
    "\n",
    "    h0, c0 =  model.init_hidden()\n",
    "\n",
    "    h0 = h0.to(device)\n",
    "    c0 = c0.to(device)\n",
    "\n",
    "    for batch_idx, batch in enumerate(train_dl):\n",
    "\n",
    "        input = batch[0].to(device)\n",
    "        target = batch[1].to(device)\n",
    "\n",
    "        optimizer.zero_grad()\n",
    "        with torch.set_grad_enabled(True):\n",
    "            out, hidden = model(input, (h0, c0))\n",
    "            loss = criterion(out.type(torch.DoubleTensor), target.type(torch.DoubleTensor))\n",
    "            loss.backward()\n",
    "            optimizer.step()\n",
    "        if batch_idx%10 == 0:\n",
    "            print(\"\\nepoch:\", e+1 ,' num:', batch_idx, 'loss:', loss.item())\n",
    "    losses.append(loss.item())"
   ]
  }
 ],
 "metadata": {
  "kernelspec": {
   "display_name": "Python 3.10.2 64-bit",
   "language": "python",
   "name": "python3"
  },
  "language_info": {
   "codemirror_mode": {
    "name": "ipython",
    "version": 3
   },
   "file_extension": ".py",
   "mimetype": "text/x-python",
   "name": "python",
   "nbconvert_exporter": "python",
   "pygments_lexer": "ipython3",
   "version": "3.10.2"
  },
  "orig_nbformat": 4,
  "vscode": {
   "interpreter": {
    "hash": "c87a5fb13a2c0417337f3f79f1427941cb00a23516eccfdf59bfe431b593136a"
   }
  }
 },
 "nbformat": 4,
 "nbformat_minor": 2
}
